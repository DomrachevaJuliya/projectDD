{
 "cells": [
  {
   "cell_type": "code",
   "execution_count": 14,
   "id": "7c63c426-fbec-40c3-ac8c-d81b49d59e95",
   "metadata": {},
   "outputs": [
    {
     "name": "stdout",
     "output_type": "stream",
     "text": [
      "Вероятность атеросклероза равна 0.0 %\n"
     ]
    }
   ],
   "source": [
    "import pandas as pd\n",
    "from sklearn.neural_network import MLPRegressor\n",
    "from sklearn.model_selection import train_test_split\n",
    "from sklearn.linear_model import LinearRegression\n",
    "from sklearn.linear_model import Perceptron\n",
    "from sklearn.preprocessing import PolynomialFeatures\n",
    "from sklearn.pipeline import Pipeline\n",
    "from sklearn.metrics import r2_score\n",
    "from sklearn.metrics import mean_squared_error\n",
    "from sklearn.metrics import root_mean_squared_error\n",
    "# Загрузка датасета\n",
    "f = pd.read_csv(\"cardio_train.csv\",sep=\";\")\n",
    "\n",
    "# Разбиение на обучающую и тестовую выборку\n",
    "futures = f.drop('cardio',axis=1)\n",
    "target = f['cardio']\n",
    "\n",
    "futures_train, futures_test, target_train, target_test = train_test_split(futures, target, test_size=0.25, random_state=42)\n",
    "\n",
    "robot = LinearRegression()\n",
    "\n",
    "robot.fit(futures_train,target_train)\n",
    "result = robot.predict(futures_test)\n",
    "r2 = r2_score(target_test,result)\n",
    "rmse = root_mean_squared_error(target_test,result)\n",
    "\n",
    "juliyaData = pd.read_csv(\"cardio_train_Juliya.csv\",sep=\";\")\n",
    "juliyaResult = robot.predict(juliyaData)\n",
    "if (juliyaResult[0] < 0):\n",
    "    juliyaResult[0] = 0\n",
    "P = juliyaResult[0]*100\n",
    "print(\"Вероятность атеросклероза равна\", P, \"%\")\n"
   ]
  },
  {
   "cell_type": "code",
   "execution_count": null,
   "id": "ff6e2f6a-4cfa-4b9f-a23b-5215beeecd39",
   "metadata": {},
   "outputs": [],
   "source": []
  },
  {
   "cell_type": "code",
   "execution_count": null,
   "id": "78ba5415-939d-4b8b-995a-453f545649ba",
   "metadata": {},
   "outputs": [],
   "source": []
  }
 ],
 "metadata": {
  "kernelspec": {
   "display_name": "Python 3 (ipykernel)",
   "language": "python",
   "name": "python3"
  },
  "language_info": {
   "codemirror_mode": {
    "name": "ipython",
    "version": 3
   },
   "file_extension": ".py",
   "mimetype": "text/x-python",
   "name": "python",
   "nbconvert_exporter": "python",
   "pygments_lexer": "ipython3",
   "version": "3.12.3"
  }
 },
 "nbformat": 4,
 "nbformat_minor": 5
}
